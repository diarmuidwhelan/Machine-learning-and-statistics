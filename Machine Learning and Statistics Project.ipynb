{
 "cells": [
  {
   "cell_type": "markdown",
   "metadata": {},
   "source": [
    "# Machine Learning and Statistics\n",
    "## GMIT H.Dip in Data Analytics Diarmuid Whelan Oct 2019 \n",
    "###  Boston House Prices\n",
    "\n",
    "Download libraries and Boston house price dataset. Manipulate and process the dataset to begin exploratory data analysis"
   ]
  },
  {
   "cell_type": "code",
   "execution_count": 4,
   "metadata": {},
   "outputs": [],
   "source": [
    "####Import Libraries\n",
    "import numpy as np\n",
    "import pandas as pd\n",
    "import seaborn as sns\n",
    "import scipy.stats as ss\n",
    "import matplotlib.pyplot as plt\n",
    "\n",
    "%matplotlib inline\n"
   ]
  },
  {
   "cell_type": "code",
   "execution_count": 5,
   "metadata": {},
   "outputs": [],
   "source": [
    "from sklearn import linear_model\n",
    "from sklearn.linear_model import LinearRegression\n",
    "from sklearn.model_selection import train_test_split\n",
    "\n",
    "\n",
    "# Load the sklearn dataset\n",
    "from sklearn.datasets import load_boston\n",
    "boston_house_prices = load_boston()\n",
    "prices = boston_house_prices.target # Define the target values\n",
    "features = boston_house_prices.data # Define the attribute values\n",
    "\n",
    "#Store in DataFrame - Easier manipulation\n",
    "attributes = boston_house_prices.feature_names # feature name(s)\n",
    "data    = pd.DataFrame(features, columns = attributes)\n",
    "target  = pd.DataFrame(prices, columns =['MEDV'])\n",
    "boston  = pd.concat([data, target,], axis = 1) #concat data/target"
   ]
  },
  {
   "cell_type": "code",
   "execution_count": null,
   "metadata": {},
   "outputs": [],
   "source": []
  }
 ],
 "metadata": {
  "kernelspec": {
   "display_name": "Python 3",
   "language": "python",
   "name": "python3"
  },
  "language_info": {
   "codemirror_mode": {
    "name": "ipython",
    "version": 3
   },
   "file_extension": ".py",
   "mimetype": "text/x-python",
   "name": "python",
   "nbconvert_exporter": "python",
   "pygments_lexer": "ipython3",
   "version": "3.7.3"
  }
 },
 "nbformat": 4,
 "nbformat_minor": 2
}
